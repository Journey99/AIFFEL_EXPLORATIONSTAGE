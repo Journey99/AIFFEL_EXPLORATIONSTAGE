{
 "cells": [
  {
   "cell_type": "markdown",
   "id": "d29ebf8d",
   "metadata": {},
   "source": [
    "# 4. 작사가 인공지능 만들기"
   ]
  },
  {
   "cell_type": "markdown",
   "id": "8031d570",
   "metadata": {},
   "source": [
    "## 4.2 시퀀스\n",
    "- 문장은 당연하고, 주가, 날짜, 심지어 드라마까지... 아주 많은 유형이 시퀀스 데이터에 포함된다. 그리고 그 데이터들을 \"Sequential\" 하다고 표현한다.\n",
    "- https://kukuta.tistory.com/310"
   ]
  },
  {
   "cell_type": "markdown",
   "id": "48275caf",
   "metadata": {},
   "source": [
    "## 4.3 "
   ]
  },
  {
   "cell_type": "code",
   "execution_count": 1,
   "id": "fb5b680d",
   "metadata": {},
   "outputs": [
    {
     "name": "stdout",
     "output_type": "stream",
     "text": [
      "Source 문장: <start> 나는 밥을 먹었다 \n",
      "Target 문장:  나는 밥을 먹었다 <end>\n"
     ]
    }
   ],
   "source": [
    "sentence = \" 나는 밥을 먹었다 \"\n",
    "\n",
    "source_sentence = \"<start>\" + sentence\n",
    "target_sentence = sentence + \"<end>\"\n",
    "\n",
    "print(\"Source 문장:\", source_sentence)\n",
    "print(\"Target 문장:\", target_sentence)"
   ]
  },
  {
   "cell_type": "markdown",
   "id": "fa5d4069",
   "metadata": {},
   "source": [
    "### 언어 모델(Language Model)\n",
    "- n번째 단어 w으로 무엇이 올지를 예측하는 확률 모델"
   ]
  },
  {
   "cell_type": "markdown",
   "id": "8f88e2dd",
   "metadata": {},
   "source": [
    "## 4.4"
   ]
  },
  {
   "cell_type": "markdown",
   "id": "943f9c27",
   "metadata": {},
   "source": [
    "### 데이터 다운로드"
   ]
  },
  {
   "cell_type": "code",
   "execution_count": 2,
   "id": "232852e9",
   "metadata": {},
   "outputs": [
    {
     "name": "stdout",
     "output_type": "stream",
     "text": [
      "['First Citizen:', 'Before we proceed any further, hear me speak.', '', 'All:', 'Speak, speak.', '', 'First Citizen:', 'You are all resolved rather to die than to famish?', '']\n"
     ]
    }
   ],
   "source": [
    "import os, re \n",
    "import numpy as np\n",
    "import tensorflow as tf\n",
    "\n",
    "# 파일을 읽기모드로 열고\n",
    "# 라인 단위로 끊어서 list 형태로 읽어옵니다.\n",
    "file_path = os.getenv('HOME') + '/aiffel/lyricist/data/shakespeare.txt'\n",
    "with open(file_path, \"r\") as f:\n",
    "    raw_corpus = f.read().splitlines()\n",
    "\n",
    "# 앞에서부터 10라인만 화면에 출력해 볼까요?\n",
    "print(raw_corpus[:9])"
   ]
  },
  {
   "cell_type": "code",
   "execution_count": 3,
   "id": "cbfb3ec8",
   "metadata": {},
   "outputs": [
    {
     "name": "stdout",
     "output_type": "stream",
     "text": [
      "Before we proceed any further, hear me speak.\n",
      "Speak, speak.\n",
      "You are all resolved rather to die than to famish?\n"
     ]
    }
   ],
   "source": [
    "for idx, sentence in enumerate(raw_corpus):\n",
    "    if len(sentence) == 0: continue   # 길이가 0인 문장은 건너뜁니다.\n",
    "    if sentence[-1] == \":\": continue  # 문장의 끝이 : 인 문장은 건너뜁니다.\n",
    "\n",
    "    if idx > 9: break   # 일단 문장 10개만 확인해 볼 겁니다.\n",
    "        \n",
    "    print(sentence)"
   ]
  },
  {
   "cell_type": "markdown",
   "id": "b00e3321",
   "metadata": {},
   "source": [
    "### 토큰화\n",
    "- 문장을 일정한 기준으로 쪼개는 과정"
   ]
  },
  {
   "cell_type": "code",
   "execution_count": 4,
   "id": "5941ba14",
   "metadata": {},
   "outputs": [
    {
     "name": "stdout",
     "output_type": "stream",
     "text": [
      "<start> this is sample sentence . <end>\n"
     ]
    }
   ],
   "source": [
    "# 입력된 문장을\n",
    "#     1. 소문자로 바꾸고, 양쪽 공백을 지웁니다\n",
    "#     2. 특수문자 양쪽에 공백을 넣고\n",
    "#     3. 여러개의 공백은 하나의 공백으로 바꿉니다\n",
    "#     4. a-zA-Z?.!,¿가 아닌 모든 문자를 하나의 공백으로 바꿉니다\n",
    "#     5. 다시 양쪽 공백을 지웁니다\n",
    "#     6. 문장 시작에는 <start>, 끝에는 <end>를 추가합니다\n",
    "# 이 순서로 처리해주면 문제가 되는 상황을 방지할 수 있겠네요!\n",
    "def preprocess_sentence(sentence):\n",
    "    sentence = sentence.lower().strip() # 1\n",
    "    sentence = re.sub(r\"([?.!,¿])\", r\" \\1 \", sentence) # 2\n",
    "    sentence = re.sub(r'[\" \"]+', \" \", sentence) # 3\n",
    "    sentence = re.sub(r\"[^a-zA-Z?.!,¿]+\", \" \", sentence) # 4\n",
    "    sentence = sentence.strip() # 5\n",
    "    sentence = '<start> ' + sentence + ' <end>' # 6\n",
    "    return sentence\n",
    "\n",
    "# 이 문장이 어떻게 필터링되는지 확인해 보세요.\n",
    "print(preprocess_sentence(\"This @_is ;;;sample        sentence.\"))"
   ]
  },
  {
   "cell_type": "markdown",
   "id": "16f5c910",
   "metadata": {},
   "source": [
    "- 소스 문장 : 모델의 입력이 되는 문장 (X_train)\n",
    "- 타겟 문장 : 정답 역할을 하게 될 모델의 출력 문장 (y_train)"
   ]
  },
  {
   "cell_type": "code",
   "execution_count": 5,
   "id": "9539f073",
   "metadata": {},
   "outputs": [
    {
     "data": {
      "text/plain": [
       "['<start> before we proceed any further , hear me speak . <end>',\n",
       " '<start> speak , speak . <end>',\n",
       " '<start> you are all resolved rather to die than to famish ? <end>',\n",
       " '<start> resolved . resolved . <end>',\n",
       " '<start> first , you know caius marcius is chief enemy to the people . <end>',\n",
       " '<start> we know t , we know t . <end>',\n",
       " '<start> let us kill him , and we ll have corn at our own price . <end>',\n",
       " '<start> is t a verdict ? <end>',\n",
       " '<start> no more talking on t let it be done away , away ! <end>',\n",
       " '<start> one word , good citizens . <end>']"
      ]
     },
     "execution_count": 5,
     "metadata": {},
     "output_type": "execute_result"
    }
   ],
   "source": [
    "# 여기에 정제된 문장을 모을겁니다\n",
    "corpus = []\n",
    "\n",
    "for sentence in raw_corpus:\n",
    "    # 우리가 원하지 않는 문장은 건너뜁니다\n",
    "    if len(sentence) == 0: continue\n",
    "    if sentence[-1] == \":\": continue\n",
    "    \n",
    "    # 정제를 하고 담아주세요\n",
    "    preprocessed_sentence = preprocess_sentence(sentence)\n",
    "    corpus.append(preprocessed_sentence)\n",
    "        \n",
    "# 정제된 결과를 10개만 확인해보죠\n",
    "corpus[:10]"
   ]
  },
  {
   "cell_type": "markdown",
   "id": "7d76a64c",
   "metadata": {},
   "source": [
    "### tf.keras.preprocessing.text.Tokenizer 패키지\n",
    "- 정제된 데이터를 토큰화하고, 단어 사전을 만들어주며, 데이터를 숫자로 변환까지 한 방에 해준다\n",
    "- 이 과정을 벡터화라 하며, 숫자로 변환된 데이터를 텐서(tensor)라고 칭한다\n",
    "    - Tensor는 배열의 집합이다\n",
    "    - 차원의 수는 Rank와 같은 말이다\n",
    "    - 배열의 차원에 따라 불리는 이름이 달라진다"
   ]
  },
  {
   "cell_type": "code",
   "execution_count": 6,
   "id": "6f6ef2b5",
   "metadata": {},
   "outputs": [
    {
     "name": "stdout",
     "output_type": "stream",
     "text": [
      "[[   2  143   40 ...    0    0    0]\n",
      " [   2  110    4 ...    0    0    0]\n",
      " [   2   11   50 ...    0    0    0]\n",
      " ...\n",
      " [   2  149 4553 ...    0    0    0]\n",
      " [   2   34   71 ...    0    0    0]\n",
      " [   2  945   34 ...    0    0    0]] <keras_preprocessing.text.Tokenizer object at 0x7f86d04b61f0>\n"
     ]
    }
   ],
   "source": [
    "# 토큰화 할 때 텐서플로우의 Tokenizer와 pad_sequences를 사용합니다\n",
    "# 더 잘 알기 위해 아래 문서들을 참고하면 좋습니다\n",
    "# https://www.tensorflow.org/api_docs/python/tf/keras/preprocessing/text/Tokenizer\n",
    "# https://www.tensorflow.org/api_docs/python/tf/keras/preprocessing/sequence/pad_sequences\n",
    "def tokenize(corpus):\n",
    "    # 7000단어를 기억할 수 있는 tokenizer를 만들겁니다\n",
    "    # 우리는 이미 문장을 정제했으니 filters가 필요없어요\n",
    "    # 7000단어에 포함되지 못한 단어는 '<unk>'로 바꿀거에요\n",
    "    tokenizer = tf.keras.preprocessing.text.Tokenizer(\n",
    "        num_words=7000, \n",
    "        filters=' ',\n",
    "        oov_token=\"<unk>\"\n",
    "    )\n",
    "    # corpus를 이용해 tokenizer 내부의 단어장을 완성합니다\n",
    "    tokenizer.fit_on_texts(corpus)\n",
    "    # 준비한 tokenizer를 이용해 corpus를 Tensor로 변환합니다\n",
    "    tensor = tokenizer.texts_to_sequences(corpus)   \n",
    "    # 입력 데이터의 시퀀스 길이를 일정하게 맞춰줍니다\n",
    "    # 만약 시퀀스가 짧다면 문장 뒤에 패딩을 붙여 길이를 맞춰줍니다.\n",
    "    # 문장 앞에 패딩을 붙여 길이를 맞추고 싶다면 padding='pre'를 사용합니다\n",
    "    tensor = tf.keras.preprocessing.sequence.pad_sequences(tensor, padding='post')  \n",
    "    \n",
    "    print(tensor,tokenizer)\n",
    "    return tensor, tokenizer\n",
    "\n",
    "tensor, tokenizer = tokenize(corpus)"
   ]
  },
  {
   "cell_type": "code",
   "execution_count": 7,
   "id": "200055e1",
   "metadata": {},
   "outputs": [
    {
     "name": "stdout",
     "output_type": "stream",
     "text": [
      "[[   2  143   40  933  140  591    4  124   24  110]\n",
      " [   2  110    4  110    5    3    0    0    0    0]\n",
      " [   2   11   50   43 1201  316    9  201   74    9]]\n"
     ]
    }
   ],
   "source": [
    "print(tensor[:3, :10])"
   ]
  },
  {
   "cell_type": "code",
   "execution_count": 8,
   "id": "b768663f",
   "metadata": {},
   "outputs": [
    {
     "name": "stdout",
     "output_type": "stream",
     "text": [
      "1 : <unk>\n",
      "2 : <start>\n",
      "3 : <end>\n",
      "4 : ,\n",
      "5 : .\n",
      "6 : the\n",
      "7 : and\n",
      "8 : i\n",
      "9 : to\n",
      "10 : of\n"
     ]
    }
   ],
   "source": [
    "for idx in tokenizer.index_word:\n",
    "    print(idx, \":\", tokenizer.index_word[idx])\n",
    "\n",
    "    if idx >= 10: break"
   ]
  },
  {
   "cell_type": "code",
   "execution_count": 9,
   "id": "99d84c56",
   "metadata": {
    "scrolled": true
   },
   "outputs": [
    {
     "name": "stdout",
     "output_type": "stream",
     "text": [
      "[  2 143  40 933 140 591   4 124  24 110   5   3   0   0   0   0   0   0\n",
      "   0   0]\n",
      "[143  40 933 140 591   4 124  24 110   5   3   0   0   0   0   0   0   0\n",
      "   0   0]\n"
     ]
    }
   ],
   "source": [
    "# tensor에서 마지막 토큰을 잘라내서 소스 문장을 생성합니다\n",
    "# 마지막 토큰은 <end>가 아니라 <pad>일 가능성이 높습니다.\n",
    "src_input = tensor[:, :-1]  \n",
    "# tensor에서 <start>를 잘라내서 타겟 문장을 생성합니다.\n",
    "tgt_input = tensor[:, 1:]    \n",
    "\n",
    "print(src_input[0])\n",
    "print(tgt_input[0])"
   ]
  },
  {
   "cell_type": "code",
   "execution_count": 10,
   "id": "596444c5",
   "metadata": {},
   "outputs": [
    {
     "data": {
      "text/plain": [
       "<BatchDataset shapes: ((256, 20), (256, 20)), types: (tf.int32, tf.int32)>"
      ]
     },
     "execution_count": 10,
     "metadata": {},
     "output_type": "execute_result"
    }
   ],
   "source": [
    "BUFFER_SIZE = len(src_input)\n",
    "BATCH_SIZE = 256\n",
    "steps_per_epoch = len(src_input) // BATCH_SIZE\n",
    "\n",
    " # tokenizer가 구축한 단어사전 내 7000개와, 여기 포함되지 않은 0:<pad>를 포함하여 7001개\n",
    "VOCAB_SIZE = tokenizer.num_words + 1   \n",
    "\n",
    "# 준비한 데이터 소스로부터 데이터셋을 만듭니다\n",
    "# 데이터셋에 대해서는 아래 문서를 참고하세요\n",
    "# 자세히 알아둘수록 도움이 많이 되는 중요한 문서입니다\n",
    "# https://www.tensorflow.org/api_docs/python/tf/data/Dataset\n",
    "dataset = tf.data.Dataset.from_tensor_slices((src_input, tgt_input))\n",
    "dataset = dataset.shuffle(BUFFER_SIZE)\n",
    "dataset = dataset.batch(BATCH_SIZE, drop_remainder=True)\n",
    "dataset"
   ]
  },
  {
   "cell_type": "markdown",
   "id": "22da33da",
   "metadata": {},
   "source": [
    "- tf.keras.preprocessing.text.Tokenizer를 이용해 corpus를 텐서로 변환\n",
    "- tf.data.Dataset.from_tensor_slices()를 이용해 corpus 텐서를 tf.data.Dataset 객체로 변환"
   ]
  },
  {
   "cell_type": "markdown",
   "id": "2e9590de",
   "metadata": {},
   "source": [
    "## 4.5"
   ]
  },
  {
   "cell_type": "code",
   "execution_count": 11,
   "id": "2311435e",
   "metadata": {},
   "outputs": [],
   "source": [
    "class TextGenerator(tf.keras.Model):\n",
    "    def __init__(self, vocab_size, embedding_size, hidden_size):\n",
    "        super().__init__()\n",
    "        \n",
    "        self.embedding = tf.keras.layers.Embedding(vocab_size, embedding_size)\n",
    "        self.rnn_1 = tf.keras.layers.LSTM(hidden_size, return_sequences=True)\n",
    "        self.rnn_2 = tf.keras.layers.LSTM(hidden_size, return_sequences=True)\n",
    "        self.linear = tf.keras.layers.Dense(vocab_size)\n",
    "        \n",
    "    def call(self, x):\n",
    "        out = self.embedding(x)\n",
    "        out = self.rnn_1(out)\n",
    "        out = self.rnn_2(out)\n",
    "        out = self.linear(out)\n",
    "        \n",
    "        return out\n",
    "    \n",
    "embedding_size = 256\n",
    "hidden_size = 1024\n",
    "model = TextGenerator(tokenizer.num_words + 1, embedding_size , hidden_size)"
   ]
  },
  {
   "cell_type": "code",
   "execution_count": 12,
   "id": "ee4125e4",
   "metadata": {},
   "outputs": [
    {
     "data": {
      "text/plain": [
       "<tf.Tensor: shape=(256, 20, 7001), dtype=float32, numpy=\n",
       "array([[[ 1.86781515e-04,  1.33194204e-04,  1.23969832e-04, ...,\n",
       "          4.98177069e-05,  1.33802561e-04,  4.73809167e-04],\n",
       "        [ 3.46862507e-04,  3.74075724e-04,  4.35842900e-04, ...,\n",
       "         -1.61813790e-04,  4.99978196e-05,  1.06581312e-03],\n",
       "        [ 3.69443675e-04,  2.79628090e-04,  4.87501558e-04, ...,\n",
       "         -4.11526329e-04,  3.76559510e-05,  1.50346826e-03],\n",
       "        ...,\n",
       "        [ 2.69674551e-04, -4.25631460e-03,  3.16060707e-03, ...,\n",
       "         -2.09716847e-03,  1.60304538e-03,  3.51258647e-03],\n",
       "        [ 3.66314256e-04, -4.56450367e-03,  3.11298692e-03, ...,\n",
       "         -2.05472647e-03,  1.67001714e-03,  3.50417802e-03],\n",
       "        [ 4.63166274e-04, -4.83808573e-03,  3.05384211e-03, ...,\n",
       "         -2.01220508e-03,  1.72393757e-03,  3.50157800e-03]],\n",
       "\n",
       "       [[ 1.86781515e-04,  1.33194204e-04,  1.23969832e-04, ...,\n",
       "          4.98177069e-05,  1.33802561e-04,  4.73809167e-04],\n",
       "        [-1.05634945e-05,  1.58712573e-04,  4.18008072e-04, ...,\n",
       "          1.23714533e-04,  1.02886333e-04,  9.35096818e-04],\n",
       "        [-8.99014558e-05,  1.58671610e-04,  8.07446253e-04, ...,\n",
       "          5.92606011e-05,  1.78900169e-04,  1.28892588e-03],\n",
       "        ...,\n",
       "        [-4.01164667e-04, -3.39451479e-03,  2.22762791e-03, ...,\n",
       "         -2.10035965e-03,  1.22981868e-03,  3.22748325e-03],\n",
       "        [-2.75631202e-04, -3.68362828e-03,  2.40802532e-03, ...,\n",
       "         -2.13493337e-03,  1.35212776e-03,  3.25169996e-03],\n",
       "        [-1.39314827e-04, -3.97635717e-03,  2.53900560e-03, ...,\n",
       "         -2.14250549e-03,  1.45191024e-03,  3.27069568e-03]],\n",
       "\n",
       "       [[ 1.86781515e-04,  1.33194204e-04,  1.23969832e-04, ...,\n",
       "          4.98177069e-05,  1.33802561e-04,  4.73809167e-04],\n",
       "        [ 3.25262750e-04,  3.04805668e-04,  3.79906473e-04, ...,\n",
       "          1.87119775e-04,  1.44247941e-04,  1.08141592e-03],\n",
       "        [ 5.28593257e-04,  1.75575420e-04,  3.68665264e-04, ...,\n",
       "          5.81226719e-04, -5.45538933e-05,  1.29407109e-03],\n",
       "        ...,\n",
       "        [-2.62991554e-04, -3.50505929e-03,  2.89517269e-03, ...,\n",
       "         -1.54363958e-03,  1.37777021e-03,  3.04691098e-03],\n",
       "        [-1.37649549e-04, -3.85764171e-03,  2.93697743e-03, ...,\n",
       "         -1.62634859e-03,  1.48919574e-03,  3.07834335e-03],\n",
       "        [-5.93191680e-06, -4.18568728e-03,  2.94851884e-03, ...,\n",
       "         -1.68428023e-03,  1.57941366e-03,  3.11313779e-03]],\n",
       "\n",
       "       ...,\n",
       "\n",
       "       [[ 1.86781515e-04,  1.33194204e-04,  1.23969832e-04, ...,\n",
       "          4.98177069e-05,  1.33802561e-04,  4.73809167e-04],\n",
       "        [ 3.54072254e-04,  4.78414295e-04,  3.67345376e-04, ...,\n",
       "          3.44770029e-04,  1.41112367e-04,  7.35684182e-04],\n",
       "        [ 6.07220747e-04,  6.97966199e-04,  4.80261602e-04, ...,\n",
       "          5.61143039e-04,  2.81294080e-04,  8.13896826e-04],\n",
       "        ...,\n",
       "        [-1.22758167e-04, -1.01297651e-03,  1.81548903e-03, ...,\n",
       "         -1.72984577e-03,  3.31516523e-04,  1.05244084e-03],\n",
       "        [-2.61478126e-04, -1.43389986e-03,  2.11508572e-03, ...,\n",
       "         -1.81549392e-03,  6.01164356e-04,  1.43385201e-03],\n",
       "        [-3.25128087e-04, -1.87499402e-03,  2.35249917e-03, ...,\n",
       "         -1.87223649e-03,  8.26043892e-04,  1.76478631e-03]],\n",
       "\n",
       "       [[ 1.86781515e-04,  1.33194204e-04,  1.23969832e-04, ...,\n",
       "          4.98177069e-05,  1.33802561e-04,  4.73809167e-04],\n",
       "        [ 4.20166180e-04,  1.12296271e-04,  4.41196084e-04, ...,\n",
       "          1.56993301e-05,  4.30313230e-04,  1.13690726e-03],\n",
       "        [ 3.34980286e-04,  2.26446209e-04,  5.54752187e-04, ...,\n",
       "         -1.96484075e-06,  4.38622083e-04,  1.45362131e-03],\n",
       "        ...,\n",
       "        [-2.16132947e-04, -2.96739908e-03,  2.52489094e-03, ...,\n",
       "         -2.13072426e-03,  1.42406905e-03,  3.18121701e-03],\n",
       "        [-1.28864820e-04, -3.36260279e-03,  2.64966511e-03, ...,\n",
       "         -2.19832221e-03,  1.49541709e-03,  3.23482347e-03],\n",
       "        [-2.48395390e-05, -3.74040729e-03,  2.72906781e-03, ...,\n",
       "         -2.22800463e-03,  1.55754259e-03,  3.27873090e-03]],\n",
       "\n",
       "       [[ 1.86781515e-04,  1.33194204e-04,  1.23969832e-04, ...,\n",
       "          4.98177069e-05,  1.33802561e-04,  4.73809167e-04],\n",
       "        [-6.08777773e-05,  2.60561821e-04,  2.81870598e-04, ...,\n",
       "         -6.54266696e-05,  4.13524504e-05,  2.94778409e-04],\n",
       "        [-1.44131947e-04,  1.63451550e-04,  4.71570034e-04, ...,\n",
       "          2.27011224e-05,  1.25817369e-05,  2.88937852e-04],\n",
       "        ...,\n",
       "        [ 4.63154895e-04, -8.07184668e-04,  1.11773843e-03, ...,\n",
       "         -7.48915947e-04, -5.84205205e-04,  1.71382737e-03],\n",
       "        [ 4.96424676e-04, -1.18202227e-03,  1.58555794e-03, ...,\n",
       "         -1.01380690e-03, -2.18126079e-04,  2.20046821e-03],\n",
       "        [ 5.44090173e-04, -1.59165647e-03,  1.96079654e-03, ...,\n",
       "         -1.23327703e-03,  1.18955315e-04,  2.58495822e-03]]],\n",
       "      dtype=float32)>"
      ]
     },
     "execution_count": 12,
     "metadata": {},
     "output_type": "execute_result"
    }
   ],
   "source": [
    "# 데이터셋에서 데이터 한 배치만 불러오는 방법입니다.\n",
    "# 지금은 동작 원리에 너무 빠져들지 마세요~\n",
    "for src_sample, tgt_sample in dataset.take(1): break\n",
    "\n",
    "# 한 배치만 불러온 데이터를 모델에 넣어봅니다\n",
    "model(src_sample)"
   ]
  },
  {
   "cell_type": "markdown",
   "id": "7c5121d3",
   "metadata": {},
   "source": [
    "- 7001 : Dense 레이어의 출력 차원수\n",
    "- 256 : 배치 사이즈\n",
    "- 20 : 시퀀스 길이"
   ]
  },
  {
   "cell_type": "code",
   "execution_count": 13,
   "id": "71239e4e",
   "metadata": {},
   "outputs": [
    {
     "name": "stdout",
     "output_type": "stream",
     "text": [
      "Model: \"text_generator\"\n",
      "_________________________________________________________________\n",
      "Layer (type)                 Output Shape              Param #   \n",
      "=================================================================\n",
      "embedding (Embedding)        multiple                  1792256   \n",
      "_________________________________________________________________\n",
      "lstm (LSTM)                  multiple                  5246976   \n",
      "_________________________________________________________________\n",
      "lstm_1 (LSTM)                multiple                  8392704   \n",
      "_________________________________________________________________\n",
      "dense (Dense)                multiple                  7176025   \n",
      "=================================================================\n",
      "Total params: 22,607,961\n",
      "Trainable params: 22,607,961\n",
      "Non-trainable params: 0\n",
      "_________________________________________________________________\n"
     ]
    }
   ],
   "source": [
    "model.summary()"
   ]
  },
  {
   "cell_type": "code",
   "execution_count": 14,
   "id": "1e6aa949",
   "metadata": {},
   "outputs": [
    {
     "name": "stdout",
     "output_type": "stream",
     "text": [
      "Epoch 1/30\n",
      "93/93 [==============================] - 20s 171ms/step - loss: 3.4810\n",
      "Epoch 2/30\n",
      "93/93 [==============================] - 16s 176ms/step - loss: 2.8096\n",
      "Epoch 3/30\n",
      "93/93 [==============================] - 17s 182ms/step - loss: 2.7090\n",
      "Epoch 4/30\n",
      "93/93 [==============================] - 18s 189ms/step - loss: 2.6061\n",
      "Epoch 5/30\n",
      "93/93 [==============================] - 19s 200ms/step - loss: 2.5418\n",
      "Epoch 6/30\n",
      "93/93 [==============================] - 20s 210ms/step - loss: 2.4903\n",
      "Epoch 7/30\n",
      "93/93 [==============================] - 19s 202ms/step - loss: 2.4420\n",
      "Epoch 8/30\n",
      "93/93 [==============================] - 18s 197ms/step - loss: 2.3947\n",
      "Epoch 9/30\n",
      "93/93 [==============================] - 19s 200ms/step - loss: 2.3507\n",
      "Epoch 10/30\n",
      "93/93 [==============================] - 19s 203ms/step - loss: 2.3082\n",
      "Epoch 11/30\n",
      "93/93 [==============================] - 19s 203ms/step - loss: 2.2714\n",
      "Epoch 12/30\n",
      "93/93 [==============================] - 19s 202ms/step - loss: 2.2297\n",
      "Epoch 13/30\n",
      "93/93 [==============================] - 19s 200ms/step - loss: 2.1898\n",
      "Epoch 14/30\n",
      "93/93 [==============================] - 19s 202ms/step - loss: 2.1530\n",
      "Epoch 15/30\n",
      "93/93 [==============================] - 19s 203ms/step - loss: 2.1145\n",
      "Epoch 16/30\n",
      "93/93 [==============================] - 19s 203ms/step - loss: 2.0763\n",
      "Epoch 17/30\n",
      "93/93 [==============================] - 19s 201ms/step - loss: 2.0387\n",
      "Epoch 18/30\n",
      "93/93 [==============================] - 19s 201ms/step - loss: 2.0001\n",
      "Epoch 19/30\n",
      "93/93 [==============================] - 19s 201ms/step - loss: 1.9622\n",
      "Epoch 20/30\n",
      "93/93 [==============================] - 19s 202ms/step - loss: 1.9236\n",
      "Epoch 21/30\n",
      "93/93 [==============================] - 19s 202ms/step - loss: 1.8870\n",
      "Epoch 22/30\n",
      "93/93 [==============================] - 19s 202ms/step - loss: 1.8475\n",
      "Epoch 23/30\n",
      "93/93 [==============================] - 19s 202ms/step - loss: 1.8094\n",
      "Epoch 24/30\n",
      "93/93 [==============================] - 19s 203ms/step - loss: 1.7717\n",
      "Epoch 25/30\n",
      "93/93 [==============================] - 19s 202ms/step - loss: 1.7357\n",
      "Epoch 26/30\n",
      "93/93 [==============================] - 19s 202ms/step - loss: 1.6974\n",
      "Epoch 27/30\n",
      "93/93 [==============================] - 19s 202ms/step - loss: 1.6610\n",
      "Epoch 28/30\n",
      "93/93 [==============================] - 19s 202ms/step - loss: 1.6232\n",
      "Epoch 29/30\n",
      "93/93 [==============================] - 19s 202ms/step - loss: 1.5874\n",
      "Epoch 30/30\n",
      "93/93 [==============================] - 19s 202ms/step - loss: 1.5522\n"
     ]
    },
    {
     "data": {
      "text/plain": [
       "<keras.callbacks.History at 0x7f863f3b3160>"
      ]
     },
     "execution_count": 14,
     "metadata": {},
     "output_type": "execute_result"
    }
   ],
   "source": [
    "# optimizer와 loss등은 차차 배웁니다\n",
    "# 혹시 미리 알고 싶다면 아래 문서를 참고하세요\n",
    "# https://www.tensorflow.org/api_docs/python/tf/keras/optimizers\n",
    "# https://www.tensorflow.org/api_docs/python/tf/keras/losses\n",
    "# 양이 상당히 많은 편이니 지금 보는 것은 추천하지 않습니다\n",
    "optimizer = tf.keras.optimizers.Adam()\n",
    "loss = tf.keras.losses.SparseCategoricalCrossentropy(\n",
    "    from_logits=True,\n",
    "    reduction='none'\n",
    ")\n",
    "\n",
    "model.compile(loss=loss, optimizer=optimizer)\n",
    "model.fit(dataset, epochs=30)"
   ]
  },
  {
   "cell_type": "markdown",
   "id": "67cec618",
   "metadata": {},
   "source": [
    "## 4.6"
   ]
  },
  {
   "cell_type": "code",
   "execution_count": 15,
   "id": "95bc3edf",
   "metadata": {},
   "outputs": [],
   "source": [
    "def generate_text(model, tokenizer, init_sentence=\"<start>\", max_len=20):\n",
    "    # 테스트를 위해서 입력받은 init_sentence도 텐서로 변환합니다\n",
    "    test_input = tokenizer.texts_to_sequences([init_sentence])\n",
    "    test_tensor = tf.convert_to_tensor(test_input, dtype=tf.int64)\n",
    "    end_token = tokenizer.word_index[\"<end>\"]\n",
    "\n",
    "    # 단어 하나씩 예측해 문장을 만듭니다\n",
    "    #    1. 입력받은 문장의 텐서를 입력합니다\n",
    "    #    2. 예측된 값 중 가장 높은 확률인 word index를 뽑아냅니다\n",
    "    #    3. 2에서 예측된 word index를 문장 뒤에 붙입니다\n",
    "    #    4. 모델이 <end>를 예측했거나, max_len에 도달했다면 문장 생성을 마칩니다\n",
    "    while True:\n",
    "        # 1\n",
    "        predict = model(test_tensor) \n",
    "        # 2\n",
    "        predict_word = tf.argmax(tf.nn.softmax(predict, axis=-1), axis=-1)[:, -1] \n",
    "        # 3 \n",
    "        test_tensor = tf.concat([test_tensor, tf.expand_dims(predict_word, axis=0)], axis=-1)\n",
    "        # 4\n",
    "        if predict_word.numpy()[0] == end_token: break\n",
    "        if test_tensor.shape[1] >= max_len: break\n",
    "\n",
    "    generated = \"\"\n",
    "    # tokenizer를 이용해 word index를 단어로 하나씩 변환합니다 \n",
    "    for word_index in test_tensor[0].numpy():\n",
    "        generated += tokenizer.index_word[word_index] + \" \"\n",
    "\n",
    "    return generated"
   ]
  },
  {
   "cell_type": "code",
   "execution_count": 16,
   "id": "1bf7a152",
   "metadata": {},
   "outputs": [
    {
     "data": {
      "text/plain": [
       "'<start> she is a man , and he shall be a man . <end> '"
      ]
     },
     "execution_count": 16,
     "metadata": {},
     "output_type": "execute_result"
    }
   ],
   "source": [
    "generate_text(model, tokenizer, init_sentence=\"<start> she\")"
   ]
  }
 ],
 "metadata": {
  "kernelspec": {
   "display_name": "Python 3 (ipykernel)",
   "language": "python",
   "name": "python3"
  },
  "language_info": {
   "codemirror_mode": {
    "name": "ipython",
    "version": 3
   },
   "file_extension": ".py",
   "mimetype": "text/x-python",
   "name": "python",
   "nbconvert_exporter": "python",
   "pygments_lexer": "ipython3",
   "version": "3.9.7"
  }
 },
 "nbformat": 4,
 "nbformat_minor": 5
}
